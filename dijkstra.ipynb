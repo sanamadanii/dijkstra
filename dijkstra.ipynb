{
 "cells": [
  {
   "cell_type": "code",
   "execution_count": 1,
   "metadata": {},
   "outputs": [],
   "source": [
    "import numpy as np"
   ]
  },
  {
   "cell_type": "code",
   "execution_count": 2,
   "metadata": {},
   "outputs": [
    {
     "name": "stdout",
     "output_type": "stream",
     "text": [
      "6\n"
     ]
    }
   ],
   "source": [
    "AdjList = [[1,2],[2,3],[3,4],[5],[3,5],[]]\n",
    "AdjDist=[[6,4],[2,2],[1,2],[7],[1,3],[]]\n",
    "print(len(AdjList))"
   ]
  },
  {
   "cell_type": "code",
   "execution_count": 3,
   "metadata": {},
   "outputs": [],
   "source": [
    "def Dijkstra(AdjList,AdjDist):\n",
    "    adjSize=len(AdjList)\n",
    "    v=[]\n",
    "    pred=np.zeros((adjSize)) \n",
    "    distance = []\n",
    "    for i in range(adjSize):\n",
    "        distance.append(float('inf'))\n",
    "    start=0\n",
    " \n",
    "    distance[start]=0\n",
    "    while len(v)<adjSize:\n",
    "        v.append(start)\n",
    "        for i in range(len(AdjList[start])):\n",
    "            if distance[AdjList[start][i]] > AdjDist[start][i]+distance[start]:\n",
    "                distance[AdjList[start][i]] =AdjDist[start][i]+distance[start]\n",
    "                pred[AdjList[start][i]]=start\n",
    "        start+=1\n",
    "        \n",
    "    return v,pred,distance\n",
    "                \n",
    "                \n",
    "            \n",
    "        \n",
    "    "
   ]
  },
  {
   "cell_type": "code",
   "execution_count": 4,
   "metadata": {},
   "outputs": [
    {
     "name": "stdout",
     "output_type": "stream",
     "text": [
      "visited List:  [0, 1, 2, 3, 4, 5]\n",
      "distance of nodes:  [0, 6, 4, 5, 6, 9]\n",
      "predcessor of each node:  [0. 0. 0. 2. 2. 4.]\n"
     ]
    }
   ],
   "source": [
    "Visited , predcessor , distance = Dijkstra(AdjList,AdjDist)\n",
    "print(\"visited List: \",Visited)\n",
    "print(\"distance of nodes: \",distance)\n",
    "print(\"predcessor of each node: \",predcessor)"
   ]
  },
  {
   "cell_type": "code",
   "execution_count": null,
   "metadata": {},
   "outputs": [],
   "source": []
  }
 ],
 "metadata": {
  "kernelspec": {
   "display_name": "Python 3",
   "language": "python",
   "name": "python3"
  },
  "language_info": {
   "codemirror_mode": {
    "name": "ipython",
    "version": 3
   },
   "file_extension": ".py",
   "mimetype": "text/x-python",
   "name": "python",
   "nbconvert_exporter": "python",
   "pygments_lexer": "ipython3",
   "version": "3.6.4"
  }
 },
 "nbformat": 4,
 "nbformat_minor": 2
}
